{
 "cells": [
  {
   "cell_type": "markdown",
   "id": "2c029c9e-d702-4939-b4a7-74297aa9c0ae",
   "metadata": {},
   "source": [
    "# First Test\n",
    "\n",
    "This notebook demonstrates a basic test with a Python function.\n"
   ]
  },
  {
   "cell_type": "code",
   "execution_count": 2,
   "id": "1648d8fa-0424-41cb-a4ae-ea30f5f9031c",
   "metadata": {},
   "outputs": [],
   "source": [
    "def hello_world():\n",
    "    return \"Hello, World!\"\n",
    "\n",
    "# Testing the function\n",
    "assert hello_world() == \"Hello, World!\"\n"
   ]
  },
  {
   "cell_type": "code",
   "execution_count": 4,
   "id": "10406f62-500a-40e9-be80-dfcb8f673a85",
   "metadata": {},
   "outputs": [
    {
     "name": "stdout",
     "output_type": "stream",
     "text": [
      "foo\n"
     ]
    }
   ],
   "source": [
    "print(\"foo\")"
   ]
  },
  {
   "cell_type": "code",
   "execution_count": null,
   "id": "47d87454-ac3e-455a-acc7-611c96d3cc8c",
   "metadata": {},
   "outputs": [],
   "source": []
  }
 ],
 "metadata": {
  "kernelspec": {
   "display_name": "Python (Poetry)",
   "language": "python",
   "name": "my-poetry-env"
  },
  "language_info": {
   "codemirror_mode": {
    "name": "ipython",
    "version": 3
   },
   "file_extension": ".py",
   "mimetype": "text/x-python",
   "name": "python",
   "nbconvert_exporter": "python",
   "pygments_lexer": "ipython3",
   "version": "3.12.3"
  }
 },
 "nbformat": 4,
 "nbformat_minor": 5
}
