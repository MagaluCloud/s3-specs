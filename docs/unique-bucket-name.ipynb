{
 "cells": [
  {
   "cell_type": "markdown",
   "id": "d5300dcf-9ea3-429f-b7e2-7e863e44d7d5",
   "metadata": {},
   "source": [
    "# Unique Bucket Names (create bucket)\n",
    "\n",
    "Buckets can be created with the **create_bucket** method on **boto3**, and are expected to fail with a `BucketAlreadyExists` error if there's already another bucket created, by any user of the system on any region, with the same name. The bucket names namespace is global."
   ]
  },
  {
   "cell_type": "markdown",
   "id": "5fc888cf-d893-41fc-a209-d32323e2faf8",
   "metadata": {
    "jp-MarkdownHeadingCollapsed": true
   },
   "source": [
    "## Setup"
   ]
  },
  {
   "cell_type": "code",
   "execution_count": 1,
   "id": "5f0359dd-1673-4a90-8c67-92e519cc97e0",
   "metadata": {
    "editable": true,
    "slideshow": {
     "slide_type": ""
    },
    "tags": [
     "parameters"
    ]
   },
   "outputs": [],
   "source": [
    "# Parameters\n",
    "profile_name = \"default\""
   ]
  },
  {
   "cell_type": "code",
   "execution_count": 2,
   "id": "875035bb-4c11-4f4a-96d5-079e99a1cbb1",
   "metadata": {
    "editable": true,
    "slideshow": {
     "slide_type": ""
    },
    "tags": []
   },
   "outputs": [
    {
     "name": "stdout",
     "output_type": "stream",
     "text": [
      "execution started at 2024-10-25 11:58:16.201252\n",
      "test bucket will be named test-unique-bucket-name-56a729\n"
     ]
    }
   ],
   "source": [
    "# Import shared functions\n",
    "from s3_helpers import print_timestamp, create_s3_client, generate_unique_bucket_name\n",
    "\n",
    "print_timestamp()\n",
    "\n",
    "# Create S3 client\n",
    "s3_client = create_s3_client(profile_name)\n",
    "\n",
    "# Generate a unique bucket name\n",
    "bucket_name = generate_unique_bucket_name(base_name=\"test-unique-bucket-name\")\n",
    "print(f'test bucket will be named {bucket_name}')\n"
   ]
  },
  {
   "cell_type": "markdown",
   "id": "354555e1-a11a-4a38-b490-90653666624c",
   "metadata": {},
   "source": [
    "## Examples"
   ]
  },
  {
   "cell_type": "markdown",
   "id": "8a9dd42c-8046-4410-a7b9-a3d7584d9e2e",
   "metadata": {},
   "source": [
    "### Create bucket\n",
    "\n",
    "Attempt to create the bucket - Expect Success"
   ]
  },
  {
   "cell_type": "code",
   "execution_count": 3,
   "id": "5ae9d4be-f0a1-45c1-b2f0-1eb1cdad4ae9",
   "metadata": {},
   "outputs": [
    {
     "name": "stdout",
     "output_type": "stream",
     "text": [
      "Bucket creation initiated.\n",
      "Created with Location: /test-unique-bucket-name-56a729\n",
      "Bucket 'test-unique-bucket-name-56a729' confirmed as created.\n"
     ]
    }
   ],
   "source": [
    "# Delete it if it exists and it's yours\n",
    "try:\n",
    "    s3_client.delete_bucket(Bucket=bucket_name)\n",
    "except s3_client.exceptions.NoSuchBucket:\n",
    "    pass\n",
    "    \n",
    "print(f\"Bucket creation initiated.\")\n",
    "response = s3_client.create_bucket(Bucket=bucket_name)\n",
    "print(f'Created with Location: {response.get(\"Location\")}')\n",
    "\n",
    "# Use waiter to confirm the bucket exists\n",
    "waiter = s3_client.get_waiter('bucket_exists')\n",
    "waiter.wait(Bucket=bucket_name)\n",
    "print(f\"Bucket '{bucket_name}' confirmed as created.\")"
   ]
  },
  {
   "cell_type": "markdown",
   "id": "d4b536c6-45e7-41cf-93b6-9b4e0f244b33",
   "metadata": {},
   "source": [
    "### Create the same bucket\n",
    "Attempt to create the same bucket again - Expect failure"
   ]
  },
  {
   "cell_type": "code",
   "execution_count": 4,
   "id": "3addf55a-2ffd-4314-8be9-c3fa3d66bb4b",
   "metadata": {},
   "outputs": [
    {
     "name": "stdout",
     "output_type": "stream",
     "text": [
      "Bucket 'test-unique-bucket-name-56a729' already exists, as expected.\n"
     ]
    }
   ],
   "source": [
    "try:\n",
    "    s3_client.create_bucket(Bucket=bucket_name)\n",
    "    # If no error is raised, fail the test\n",
    "    raise AssertionError(\"Expected BucketAlreadyExists error, but bucket was created successfully.\")\n",
    "except s3_client.exceptions.BucketAlreadyExists:\n",
    "    print(f\"Bucket '{bucket_name}' already exists, as expected.\")"
   ]
  },
  {
   "cell_type": "markdown",
   "id": "d8adcabb-1f74-43bd-9881-34a2caa6ee0a",
   "metadata": {
    "jp-MarkdownHeadingCollapsed": true
   },
   "source": [
    "## Teardown"
   ]
  },
  {
   "cell_type": "code",
   "execution_count": 5,
   "id": "f79d99e2-54b9-48da-8f57-e80a0c5aba15",
   "metadata": {},
   "outputs": [
    {
     "name": "stdout",
     "output_type": "stream",
     "text": [
      "Bucket 'test-unique-bucket-name-56a729' confirmed as deleted.\n"
     ]
    }
   ],
   "source": [
    "try:\n",
    "    s3_client.delete_bucket(Bucket=bucket_name)\n",
    "except s3_client.exceptions.NoSuchBucket:\n",
    "    print(\"already deleted by someone else\")\n",
    "    pass\n",
    "\n",
    "# Use waiter to confirm the bucket doesnt exists\n",
    "waiter = s3_client.get_waiter('bucket_not_exists')\n",
    "waiter.wait(Bucket=bucket_name)\n",
    "print(f\"Bucket '{bucket_name}' confirmed as deleted.\")"
   ]
  },
  {
   "cell_type": "markdown",
   "id": "bb20779a-1ace-47db-8407-4716f5337d42",
   "metadata": {
    "editable": true,
    "slideshow": {
     "slide_type": ""
    },
    "tags": []
   },
   "source": [
    "## References\n",
    "\n",
    "- https://boto3.amazonaws.com/v1/documentation/api/latest/reference/services/s3/client/create_bucket.html\n",
    "- https://boto3.amazonaws.com/v1/documentation/api/latest/guide/error-handling.html"
   ]
  }
 ],
 "metadata": {
  "kernelspec": {
   "display_name": "Python (Poetry)",
   "language": "python",
   "name": "my-poetry-env"
  },
  "language_info": {
   "codemirror_mode": {
    "name": "ipython",
    "version": 3
   },
   "file_extension": ".py",
   "mimetype": "text/x-python",
   "name": "python",
   "nbconvert_exporter": "python",
   "pygments_lexer": "ipython3",
   "version": "3.12.3"
  }
 },
 "nbformat": 4,
 "nbformat_minor": 5
}
