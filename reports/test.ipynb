{
 "cells": [
  {
   "cell_type": "code",
   "execution_count": 1,
   "metadata": {},
   "outputs": [],
   "source": [
    "import pandas as pd\n",
    "import boto3\n",
    "from botocore.exceptions import ClientError\n",
    "from concurrent.futures import ThreadPoolExecutor, as_completed"
   ]
  },
  {
   "cell_type": "code",
   "execution_count": 2,
   "metadata": {},
   "outputs": [],
   "source": [
    "endpoint_ending_mgc = '.magaluobjects.com/'\n",
    "endpoint_url = 'https://br-se1.magaluobjects.com/'\n",
    "profile_name = 'br-se1'\n",
    "\n",
    "session = boto3.Session(profile_name=profile_name)\n",
    "client = session.client('s3', endpoint_url= endpoint_url) \n",
    "\n",
    "objs = client.list_objects_v2(Bucket = 's3-specs-tests-reports-manual-parquet')\n",
    "o = [o['Key'] for o in objs['Contents']]\n",
    "\n",
    "client.download_file(Bucket = 's3-specs-tests-reports-manual-parquet', Key='execution_entity.parquet', Filename='execution_entity.parquet')\n",
    "a = pd.read_parquet('execution_entity.parquet')"
   ]
  },
  {
   "cell_type": "code",
   "execution_count": 3,
   "metadata": {},
   "outputs": [
    {
     "data": {
      "text/plain": [
       "['artifact.parquet',\n",
       " 'execution_time.parquet',\n",
       " 'tests.parquet',\n",
       " 'failures.parquet',\n",
       " 'execution_entity.parquet']"
      ]
     },
     "execution_count": 3,
     "metadata": {},
     "output_type": "execute_result"
    }
   ],
   "source": [
    "import os\n",
    "oa =os.listdir('output')\n",
    "a = [o for o in oa if 'parquet' in o]\n",
    "a"
   ]
  },
  {
   "cell_type": "code",
   "execution_count": 24,
   "metadata": {},
   "outputs": [
    {
     "data": {
      "text/plain": [
       "Index(['Execution_name', 'Execution_type', 'Number_Runs', 'Avg_Time',\n",
       "       'Min_Time', 'Total_Time'],\n",
       "      dtype='object')"
      ]
     },
     "execution_count": 24,
     "metadata": {},
     "output_type": "execute_result"
    }
   ],
   "source": [
    "p = pd.read_parquet('./output/execution_time.parquet')\n",
    "#for d in a:\n",
    "    #p.append(pd.read_parquet('./output/'+ d))\n",
    "f = p.drop(columns='Execution_Datetime').head(2)\n",
    "f.columns"
   ]
  },
  {
   "cell_type": "code",
   "execution_count": 35,
   "metadata": {},
   "outputs": [
    {
     "name": "stdout",
     "output_type": "stream",
     "text": [
      "Transformed DataFrame:\n"
     ]
    },
    {
     "data": {
      "application/vnd.microsoft.datawrangler.viewer.v0+json": {
       "columns": [
        {
         "name": "index",
         "rawType": "int64",
         "type": "integer"
        },
        {
         "name": "Execution_name",
         "rawType": "object",
         "type": "string"
        },
        {
         "name": "Execution_type",
         "rawType": "object",
         "type": "string"
        },
        {
         "name": "Number_Runs",
         "rawType": "object",
         "type": "string"
        },
        {
         "name": "type_time",
         "rawType": "object",
         "type": "string"
        },
        {
         "name": "time_values",
         "rawType": "float64",
         "type": "float"
        }
       ],
       "conversionMethod": "pd.DataFrame",
       "ref": "ff5f12e8-79d4-446f-9217-83da3d065abe",
       "rows": [
        [
         "0",
         "test_boto_multipart_upload_with_cold_storage_class",
         " teardown duration ",
         "1",
         "Avg_Time",
         "3.675"
        ],
        [
         "1",
         "test_boto_upload_object_with_cold_storage_class",
         " teardown duration ",
         "1",
         "Avg_Time",
         "1.436"
        ],
        [
         "2",
         "test_boto_multipart_upload_with_cold_storage_class",
         " teardown duration ",
         "1",
         "Min_Time",
         "3.675"
        ],
        [
         "3",
         "test_boto_upload_object_with_cold_storage_class",
         " teardown duration ",
         "1",
         "Min_Time",
         "1.436"
        ],
        [
         "4",
         "test_boto_multipart_upload_with_cold_storage_class",
         " teardown duration ",
         "1",
         "Total_Time",
         "3.675"
        ],
        [
         "5",
         "test_boto_upload_object_with_cold_storage_class",
         " teardown duration ",
         "1",
         "Total_Time",
         "1.436"
        ]
       ],
       "shape": {
        "columns": 5,
        "rows": 6
       }
      },
      "text/html": [
       "<div>\n",
       "<style scoped>\n",
       "    .dataframe tbody tr th:only-of-type {\n",
       "        vertical-align: middle;\n",
       "    }\n",
       "\n",
       "    .dataframe tbody tr th {\n",
       "        vertical-align: top;\n",
       "    }\n",
       "\n",
       "    .dataframe thead th {\n",
       "        text-align: right;\n",
       "    }\n",
       "</style>\n",
       "<table border=\"1\" class=\"dataframe\">\n",
       "  <thead>\n",
       "    <tr style=\"text-align: right;\">\n",
       "      <th></th>\n",
       "      <th>Execution_name</th>\n",
       "      <th>Execution_type</th>\n",
       "      <th>Number_Runs</th>\n",
       "      <th>type_time</th>\n",
       "      <th>time_values</th>\n",
       "    </tr>\n",
       "  </thead>\n",
       "  <tbody>\n",
       "    <tr>\n",
       "      <th>0</th>\n",
       "      <td>test_boto_multipart_upload_with_cold_storage_c...</td>\n",
       "      <td>teardown duration</td>\n",
       "      <td>1</td>\n",
       "      <td>Avg_Time</td>\n",
       "      <td>3.675</td>\n",
       "    </tr>\n",
       "    <tr>\n",
       "      <th>1</th>\n",
       "      <td>test_boto_upload_object_with_cold_storage_class</td>\n",
       "      <td>teardown duration</td>\n",
       "      <td>1</td>\n",
       "      <td>Avg_Time</td>\n",
       "      <td>1.436</td>\n",
       "    </tr>\n",
       "    <tr>\n",
       "      <th>2</th>\n",
       "      <td>test_boto_multipart_upload_with_cold_storage_c...</td>\n",
       "      <td>teardown duration</td>\n",
       "      <td>1</td>\n",
       "      <td>Min_Time</td>\n",
       "      <td>3.675</td>\n",
       "    </tr>\n",
       "    <tr>\n",
       "      <th>3</th>\n",
       "      <td>test_boto_upload_object_with_cold_storage_class</td>\n",
       "      <td>teardown duration</td>\n",
       "      <td>1</td>\n",
       "      <td>Min_Time</td>\n",
       "      <td>1.436</td>\n",
       "    </tr>\n",
       "    <tr>\n",
       "      <th>4</th>\n",
       "      <td>test_boto_multipart_upload_with_cold_storage_c...</td>\n",
       "      <td>teardown duration</td>\n",
       "      <td>1</td>\n",
       "      <td>Total_Time</td>\n",
       "      <td>3.675</td>\n",
       "    </tr>\n",
       "    <tr>\n",
       "      <th>5</th>\n",
       "      <td>test_boto_upload_object_with_cold_storage_class</td>\n",
       "      <td>teardown duration</td>\n",
       "      <td>1</td>\n",
       "      <td>Total_Time</td>\n",
       "      <td>1.436</td>\n",
       "    </tr>\n",
       "  </tbody>\n",
       "</table>\n",
       "</div>"
      ],
      "text/plain": [
       "                                      Execution_name       Execution_type  \\\n",
       "0  test_boto_multipart_upload_with_cold_storage_c...   teardown duration    \n",
       "1    test_boto_upload_object_with_cold_storage_class   teardown duration    \n",
       "2  test_boto_multipart_upload_with_cold_storage_c...   teardown duration    \n",
       "3    test_boto_upload_object_with_cold_storage_class   teardown duration    \n",
       "4  test_boto_multipart_upload_with_cold_storage_c...   teardown duration    \n",
       "5    test_boto_upload_object_with_cold_storage_class   teardown duration    \n",
       "\n",
       "  Number_Runs   type_time  time_values  \n",
       "0           1    Avg_Time        3.675  \n",
       "1           1    Avg_Time        1.436  \n",
       "2           1    Min_Time        3.675  \n",
       "3           1    Min_Time        1.436  \n",
       "4           1  Total_Time        3.675  \n",
       "5           1  Total_Time        1.436  "
      ]
     },
     "metadata": {},
     "output_type": "display_data"
    }
   ],
   "source": [
    "# Melt the DataFrame\n",
    "melted_df = pd.melt(\n",
    "    f,\n",
    "    id_vars=['Execution_name', 'Execution_type', 'Number_Runs'],  # Columns to keep as-is\n",
    "    value_vars=['Avg_Time', 'Min_Time', 'Total_Time'],  # Columns to merge\n",
    "    var_name='type_time',  # New column name for the time types\n",
    "    value_name='time_values'  # New column name for the time values\n",
    ").reset_index(drop=True)\n",
    "\n",
    "print(\"Transformed DataFrame:\")\n",
    "display(melted_df)"
   ]
  },
  {
   "cell_type": "code",
   "execution_count": 34,
   "metadata": {},
   "outputs": [
    {
     "data": {
      "text/plain": [
       "[{'Execution_name': 'test_boto_multipart_upload_with_cold_storage_class',\n",
       "  'Execution_type': ' teardown duration ',\n",
       "  'Number_Runs': '1',\n",
       "  'type_time': 'Avg_Time',\n",
       "  'time_values': 3.675},\n",
       " {'Execution_name': 'test_boto_upload_object_with_cold_storage_class',\n",
       "  'Execution_type': ' teardown duration ',\n",
       "  'Number_Runs': '1',\n",
       "  'type_time': 'Avg_Time',\n",
       "  'time_values': 1.436},\n",
       " {'Execution_name': 'test_boto_multipart_upload_with_cold_storage_class',\n",
       "  'Execution_type': ' teardown duration ',\n",
       "  'Number_Runs': '1',\n",
       "  'type_time': 'Min_Time',\n",
       "  'time_values': 3.675},\n",
       " {'Execution_name': 'test_boto_upload_object_with_cold_storage_class',\n",
       "  'Execution_type': ' teardown duration ',\n",
       "  'Number_Runs': '1',\n",
       "  'type_time': 'Min_Time',\n",
       "  'time_values': 1.436},\n",
       " {'Execution_name': 'test_boto_multipart_upload_with_cold_storage_class',\n",
       "  'Execution_type': ' teardown duration ',\n",
       "  'Number_Runs': '1',\n",
       "  'type_time': 'Total_Time',\n",
       "  'time_values': 3.675},\n",
       " {'Execution_name': 'test_boto_upload_object_with_cold_storage_class',\n",
       "  'Execution_type': ' teardown duration ',\n",
       "  'Number_Runs': '1',\n",
       "  'type_time': 'Total_Time',\n",
       "  'time_values': 1.436}]"
      ]
     },
     "execution_count": 34,
     "metadata": {},
     "output_type": "execute_result"
    }
   ],
   "source": [
    "melted_df.to_dict('records')"
   ]
  }
 ],
 "metadata": {
  "kernelspec": {
   "display_name": "Python 3",
   "language": "python",
   "name": "python3"
  },
  "language_info": {
   "codemirror_mode": {
    "name": "ipython",
    "version": 3
   },
   "file_extension": ".py",
   "mimetype": "text/x-python",
   "name": "python",
   "nbconvert_exporter": "python",
   "pygments_lexer": "ipython3",
   "version": "3.10.12"
  }
 },
 "nbformat": 4,
 "nbformat_minor": 2
}
